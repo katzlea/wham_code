{
 "cells": [
  {
   "cell_type": "code",
   "execution_count": 9,
   "id": "cc2749bc-04c9-41f7-a6cb-a141c92dc7d0",
   "metadata": {},
   "outputs": [],
   "source": [
    "import pymavlink"
   ]
  },
  {
   "cell_type": "code",
   "execution_count": 15,
   "id": "360bab05-9184-4464-a2b8-dde48939b6d7",
   "metadata": {},
   "outputs": [],
   "source": [
    "import os"
   ]
  },
  {
   "cell_type": "code",
   "execution_count": 10,
   "id": "791710fe-9cf8-4fe4-b622-4b630e9c227b",
   "metadata": {},
   "outputs": [],
   "source": [
    "campaign=\"VP\""
   ]
  },
  {
   "cell_type": "code",
   "execution_count": 11,
   "id": "8fcc1248-a4b2-415c-960b-043b3837c1e3",
   "metadata": {},
   "outputs": [],
   "source": [
    "divenumber=\"DIV4\""
   ]
  },
  {
   "cell_type": "code",
   "execution_count": 16,
   "id": "817d934f-51a9-4ceb-a21d-a098b4b81d7c",
   "metadata": {},
   "outputs": [],
   "source": [
    "os.chdir('c:\\\\Users\\\\leasa\\\\Documents\\\\wham')"
   ]
  },
  {
   "cell_type": "code",
   "execution_count": null,
   "id": "5c39a33f-39a7-4d68-817f-0fca2f43d7d6",
   "metadata": {},
   "outputs": [],
   "source": [
    "#! python3 wham_code/tlog/mavlogdump.py --types=GPS_RAW_INT --format=csv wham_data/{campaign}/{divenumber}/{campaign}_{divenumber}.tlog > wham_data/{campaign}/{divenumber}/{campaign}_{divenumber}_gps.csv"
   ]
  },
  {
   "cell_type": "code",
   "execution_count": 21,
   "id": "573574aa-cc9c-4117-89c6-f3e3442f35b9",
   "metadata": {},
   "outputs": [],
   "source": [
    "! python3 wham_code/tlog/mavlogdump.py --types=GLOBAL_POSITION_INT --format=csv wham_data/{campaign}/{divenumber}/{campaign}_{divenumber}.tlog > wham_data/{campaign}/{divenumber}/{campaign}_{divenumber}_pos.csv"
   ]
  },
  {
   "cell_type": "code",
   "execution_count": 24,
   "id": "9856e2d8-0bbd-44d6-8b89-7c8f388339b0",
   "metadata": {},
   "outputs": [],
   "source": [
    "#! python3 wham_code/tlog/mavlogdump.py --types=CAMERA_CAPTURE_STATUS --format=csv wham_data/{campaign}/{divenumber}/{campaign}_{divenumber}.tlog > wham_data/{campaign}/{divenumber}/{campaign}_{divenumber}_cam.csv"
   ]
  },
  {
   "cell_type": "code",
   "execution_count": 23,
   "id": "ec93a7a9-fbc9-4bcb-bc42-be32814e638c",
   "metadata": {},
   "outputs": [],
   "source": [
    "! python3 wham_code/tlog/mavlogdump.py --types=ATTITUDE --format=csv wham_data/{campaign}/{divenumber}/{campaign}_{divenumber}.tlog > wham_data/{campaign}/{divenumber}/{campaign}_{divenumber}_att.csv"
   ]
  },
  {
   "cell_type": "code",
   "execution_count": null,
   "id": "39145e16-7fac-4eda-b64a-228c9c179f97",
   "metadata": {},
   "outputs": [],
   "source": []
  }
 ],
 "metadata": {
  "kernelspec": {
   "display_name": "Python 3 (ipykernel)",
   "language": "python",
   "name": "python3"
  },
  "language_info": {
   "codemirror_mode": {
    "name": "ipython",
    "version": 3
   },
   "file_extension": ".py",
   "mimetype": "text/x-python",
   "name": "python",
   "nbconvert_exporter": "python",
   "pygments_lexer": "ipython3",
   "version": "3.8.13"
  }
 },
 "nbformat": 4,
 "nbformat_minor": 5
}
