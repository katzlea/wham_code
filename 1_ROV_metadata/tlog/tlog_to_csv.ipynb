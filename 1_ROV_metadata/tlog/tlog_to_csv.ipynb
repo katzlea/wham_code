{
 "cells": [
  {
   "cell_type": "code",
   "execution_count": 1,
   "id": "2c3766bd-dd46-4eeb-b07f-fd68910361f9",
   "metadata": {},
   "outputs": [
    {
     "name": "stdout",
     "output_type": "stream",
     "text": [
      "Requirement already satisfied: pymavlink in c:\\users\\leasa\\miniconda3\\lib\\site-packages (2.4.41)\n",
      "Requirement already satisfied: future in c:\\users\\leasa\\miniconda3\\lib\\site-packages (from pymavlink) (0.18.3)\n",
      "Requirement already satisfied: lxml in c:\\users\\leasa\\miniconda3\\lib\\site-packages (from pymavlink) (5.2.1)\n",
      "Note: you may need to restart the kernel to use updated packages.\n"
     ]
    }
   ],
   "source": [
    "pip install pymavlink"
   ]
  },
  {
   "cell_type": "code",
   "execution_count": null,
   "id": "cc2749bc-04c9-41f7-a6cb-a141c92dc7d0",
   "metadata": {},
   "outputs": [],
   "source": [
    "import pymavlink"
   ]
  },
  {
   "cell_type": "code",
   "execution_count": 15,
   "id": "360bab05-9184-4464-a2b8-dde48939b6d7",
   "metadata": {},
   "outputs": [],
   "source": [
    "import os"
   ]
  },
  {
   "cell_type": "code",
   "execution_count": 17,
   "id": "791710fe-9cf8-4fe4-b622-4b630e9c227b",
   "metadata": {},
   "outputs": [],
   "source": [
    "campaign=\"TANGO2\""
   ]
  },
  {
   "cell_type": "code",
   "execution_count": 18,
   "id": "8fcc1248-a4b2-415c-960b-043b3837c1e3",
   "metadata": {},
   "outputs": [],
   "source": [
    "divenumber=\"ROV3\""
   ]
  },
  {
   "cell_type": "code",
   "execution_count": 19,
   "id": "f16259ec-5b4b-4b53-98ce-fbe9944733dc",
   "metadata": {},
   "outputs": [],
   "source": [
    "logname=\"2024-02-12_17-50-49\""
   ]
  },
  {
   "cell_type": "code",
   "execution_count": 20,
   "id": "817d934f-51a9-4ceb-a21d-a098b4b81d7c",
   "metadata": {},
   "outputs": [],
   "source": [
    "os.chdir('c:\\\\Users\\\\leasa\\\\Dropbox\\\\wham')"
   ]
  },
  {
   "cell_type": "code",
   "execution_count": 21,
   "id": "5c39a33f-39a7-4d68-817f-0fca2f43d7d6",
   "metadata": {},
   "outputs": [],
   "source": [
    "#! python3 wham_code/tlog/mavlogdump.py --types=GPS_RAW_INT --format=csv wham_data/{campaign}/{divenumber}/{campaign}_{divenumber}.tlog > wham_data/{campaign}/{divenumber}/{campaign}_{divenumber}_gps.csv"
   ]
  },
  {
   "cell_type": "code",
   "execution_count": 22,
   "id": "573574aa-cc9c-4117-89c6-f3e3442f35b9",
   "metadata": {},
   "outputs": [],
   "source": [
    "#! python3 wham_code/1_ROV_metadata/tlog/mavlogdump.py --types=GLOBAL_POSITION_INT --format=csv wham_data/{campaign}/navigation/qgc_logs/{logname}.tlog > wham_data/{campaign}/navigation/qgc_logs/{campaign}_{divenumber}_pos.csv"
   ]
  },
  {
   "cell_type": "code",
   "execution_count": 23,
   "id": "9856e2d8-0bbd-44d6-8b89-7c8f388339b0",
   "metadata": {},
   "outputs": [],
   "source": [
    "#! python3 wham_code/tlog/mavlogdump.py --types=CAMERA_CAPTURE_STATUS --format=csv wham_data/{campaign}/{divenumber}/{campaign}_{divenumber}.tlog > wham_data/{campaign}/{divenumber}/{campaign}_{divenumber}_cam.csv"
   ]
  },
  {
   "cell_type": "code",
   "execution_count": 24,
   "id": "ec93a7a9-fbc9-4bcb-bc42-be32814e638c",
   "metadata": {},
   "outputs": [],
   "source": [
    "#! python3 wham_code/tlog/mavlogdump.py --types=ATTITUDE --format=csv wham_data/{campaign}/{divenumber}/{campaign}_{divenumber}.tlog > wham_data/{campaign}/{divenumber}/{campaign}_{divenumber}_att.csv"
   ]
  },
  {
   "cell_type": "code",
   "execution_count": 25,
   "id": "39145e16-7fac-4eda-b64a-228c9c179f97",
   "metadata": {},
   "outputs": [],
   "source": [
    "#! python3 wham_code/3.1_tlog/mavlogdump.py --types=GLOBAL_POSITION_INT --format=csv wham_data/{campaign}/{logname}.tlog > wham_data/{campaign}/{logname}_pos.csv"
   ]
  },
  {
   "cell_type": "code",
   "execution_count": 26,
   "id": "1a3ebf34-bc8d-4573-82ed-3f4eff68917f",
   "metadata": {},
   "outputs": [
    {
     "name": "stderr",
     "output_type": "stream",
     "text": [
      "Traceback (most recent call last):\n",
      "  File \"c:\\Users\\leasa\\Dropbox\\wham\\wham_code\\1_ROV_metadata\\tlog\\mavlogdump.py\", line 70, in <module>\n",
      "    from pymavlink import mavutil\n",
      "ModuleNotFoundError: No module named 'pymavlink'\n"
     ]
    }
   ],
   "source": [
    "! python3 wham_code/1_ROV_metadata/tlog/mavlogdump.py --types=ATTITUDE --format=csv wham_data/{campaign}/navigation/qgc_logs/{logname}.tlog > wham_data/{campaign}/{logname}_att.csv"
   ]
  },
  {
   "cell_type": "code",
   "execution_count": null,
   "id": "a33da897-c8f6-455a-9f4f-f2836ece748f",
   "metadata": {},
   "outputs": [],
   "source": []
  },
  {
   "cell_type": "code",
   "execution_count": null,
   "id": "cca205b0-79c3-411e-84fe-acaab77f3542",
   "metadata": {},
   "outputs": [],
   "source": []
  },
  {
   "cell_type": "code",
   "execution_count": null,
   "id": "c3c7e832-7bb7-4d10-ae7b-1a6e6b880c32",
   "metadata": {},
   "outputs": [],
   "source": []
  }
 ],
 "metadata": {
  "kernelspec": {
   "display_name": "Python 3 (ipykernel)",
   "language": "python",
   "name": "python3"
  },
  "language_info": {
   "codemirror_mode": {
    "name": "ipython",
    "version": 3
   },
   "file_extension": ".py",
   "mimetype": "text/x-python",
   "name": "python",
   "nbconvert_exporter": "python",
   "pygments_lexer": "ipython3",
   "version": "3.11.5"
  }
 },
 "nbformat": 4,
 "nbformat_minor": 5
}
