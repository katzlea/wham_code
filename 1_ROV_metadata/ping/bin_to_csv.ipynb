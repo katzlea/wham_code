{
 "cells": [
  {
   "cell_type": "code",
   "execution_count": 1,
   "id": "32f6f2ba-2922-47ef-bc2f-80bf14ba5f4b",
   "metadata": {},
   "outputs": [
    {
     "name": "stdout",
     "output_type": "stream",
     "text": [
      "Requirement already satisfied: pandas in c:\\users\\leasa\\miniconda3\\lib\\site-packages (2.1.3)\n",
      "Requirement already satisfied: numpy<2,>=1.23.2 in c:\\users\\leasa\\miniconda3\\lib\\site-packages (from pandas) (1.26.2)\n",
      "Requirement already satisfied: python-dateutil>=2.8.2 in c:\\users\\leasa\\miniconda3\\lib\\site-packages (from pandas) (2.8.2)\n",
      "Requirement already satisfied: pytz>=2020.1 in c:\\users\\leasa\\miniconda3\\lib\\site-packages (from pandas) (2023.3.post1)\n",
      "Requirement already satisfied: tzdata>=2022.1 in c:\\users\\leasa\\miniconda3\\lib\\site-packages (from pandas) (2023.3)\n",
      "Requirement already satisfied: six>=1.5 in c:\\users\\leasa\\miniconda3\\lib\\site-packages (from python-dateutil>=2.8.2->pandas) (1.16.0)\n",
      "Note: you may need to restart the kernel to use updated packages.\n"
     ]
    }
   ],
   "source": [
    "pip install pandas"
   ]
  },
  {
   "cell_type": "code",
   "execution_count": 2,
   "id": "0c227735-4917-44ca-98e2-b08d31d2d214",
   "metadata": {},
   "outputs": [
    {
     "name": "stdout",
     "output_type": "stream",
     "text": [
      "Requirement already satisfied: bluerobotics-ping in c:\\users\\leasa\\miniconda3\\lib\\site-packages (0.1.5)\n",
      "Requirement already satisfied: pyserial in c:\\users\\leasa\\miniconda3\\lib\\site-packages (from bluerobotics-ping) (3.5)\n",
      "Requirement already satisfied: future in c:\\users\\leasa\\miniconda3\\lib\\site-packages (from bluerobotics-ping) (0.18.3)\n",
      "Note: you may need to restart the kernel to use updated packages.\n"
     ]
    }
   ],
   "source": [
    "pip install bluerobotics-ping"
   ]
  },
  {
   "cell_type": "code",
   "execution_count": 3,
   "id": "b13f6aea-8467-4e7a-815b-4d02436ea9ac",
   "metadata": {},
   "outputs": [],
   "source": [
    "import pandas as pd"
   ]
  },
  {
   "cell_type": "code",
   "execution_count": 4,
   "id": "1fb0a76a-9fd1-4163-84f0-e91fb4044663",
   "metadata": {},
   "outputs": [],
   "source": [
    "import os"
   ]
  },
  {
   "cell_type": "code",
   "execution_count": 5,
   "id": "6f6f4928-1df5-45c6-9ff3-84f4ef7ef2fd",
   "metadata": {},
   "outputs": [],
   "source": [
    "campaign=\"TANGO2\""
   ]
  },
  {
   "cell_type": "code",
   "execution_count": 6,
   "id": "558886b1-7213-4b01-a0fc-26f208f48e7c",
   "metadata": {},
   "outputs": [],
   "source": [
    "divenumber=\"ROV19\""
   ]
  },
  {
   "cell_type": "code",
   "execution_count": 7,
   "id": "b1402bd3-7abf-4ce7-94b0-f63157723ba1",
   "metadata": {},
   "outputs": [],
   "source": [
    "os.chdir('c:\\\\Users\\\\leasa\\\\Dropbox\\\\wham')"
   ]
  },
  {
   "cell_type": "code",
   "execution_count": 8,
   "id": "3fd02fc9-1f10-4ac3-b30a-d502533929dd",
   "metadata": {},
   "outputs": [],
   "source": [
    "#! python3 wham_code/1_ROV_metadata/ping/decode_sensor_binary_log.py wham_data/{campaign}/navigation/ping_logs/{campaign}_{divenumber}.bin"
   ]
  },
  {
   "cell_type": "code",
   "execution_count": 9,
   "id": "cac741ea-19da-4adc-99a6-77d7f02c5d8c",
   "metadata": {},
   "outputs": [
    {
     "name": "stdout",
     "output_type": "stream",
     "text": [
      "Header:\n",
      "    String: \u0000P\u0000i\u0000n\u0000g\u0000V\u0000i\u0000e\u0000w\u0000e\u0000r\u0000 \u0000s\u0000e\u0000n\u0000s\u0000o\u0000r\u0000 \u0000l\u0000o\u0000g\u0000 \u0000f\u0000i\u0000l\u0000e\n",
      "    Version: 1\n",
      "        PingViewerBuildInfo:\n",
      "        hash: \u0000b\u00001\u00002\u00009\u00008\u00001\u00001\n",
      "        date: \u00002\u00000\u00002\u00003\u0000-\u00000\u00006\u0000-\u00002\u00009\u0000T\u00001\u00008\u0000:\u00002\u00009\u0000:\u00003\u00008\u0000-\u00000\u00003\u0000:\u00000\u00000\n",
      "        tag: \u0000v\u00002\u0000.\u00004\u0000.\u00001\n",
      "        os:\n",
      "            name: \u0000W\u0000i\u0000n\u0000d\u0000o\u0000w\u0000s\u0000 \u00001\u00000\u0000 \u0000V\u0000e\u0000r\u0000s\u0000i\u0000o\u0000n\u0000 \u00002\u00000\u00000\u00009\n",
      "            version: \u00001\u00000\n",
      "        \n",
      "        Sensor:\n",
      "        Family: 1\n",
      "        Type: 1\n",
      "        \n",
      "    \n"
     ]
    },
    {
     "name": "stderr",
     "output_type": "stream",
     "text": [
      "c:\\Users\\leasa\\Dropbox\\wham\\wham_code\\1_ROV_metadata\\ping\\decode_bin_log.py:82: SyntaxWarning: invalid escape sequence '\\d'\n",
      "  TIMESTAMP_FORMAT = re.compile(b'(\\x00?\\d){2}(\\x00?:\\x00?[0-5]\\x00?\\d){2}\\x00?\\.(\\x00?\\d){3}')\n"
     ]
    }
   ],
   "source": [
    "! python3 wham_code/1_ROV_metadata/ping/decode_bin_log.py wham_data/{campaign}/navigation/ping_logs/{campaign}_{divenumber}.bin"
   ]
  },
  {
   "cell_type": "code",
   "execution_count": 10,
   "id": "1da5007b-2048-4ccc-ac8f-2b82b12fd667",
   "metadata": {},
   "outputs": [],
   "source": [
    "file=open(f\"wham_data/{campaign}/navigation/ping_logs/{campaign}_{divenumber}.bin_info.txt\",'r')\n",
    "\n",
    "lines = file.readlines()\n",
    "\n",
    "time_values = []\n",
    "bathymetry = []\n",
    "confidence = []\n",
    "\n",
    "for line in lines:\n",
    "    split = line.split()\n",
    "    if \"timestamp:\" in split:\n",
    "        time_values.append(split[1].replace('\\x00',''))\n",
    "    if \"distance:\" in split:\n",
    "        bathymetry.append(int(split[2]))\n",
    "    if \"confidence:\" in split:\n",
    "        confidence.append(int(split[2]))\n",
    "\n",
    "df = pd.DataFrame(columns=['time','bathymetry','confidence'])\n",
    "df['time'] = time_values\n",
    "df['bathymetry'] = bathymetry\n",
    "df['confidence'] = confidence"
   ]
  },
  {
   "cell_type": "code",
   "execution_count": 11,
   "id": "85636711-23b2-4ca6-8a74-d77b845cd4d1",
   "metadata": {},
   "outputs": [
    {
     "data": {
      "text/plain": [
       "array([  0,  11,  16,  18,  17,  28,  21,  32,  23,  22,  12,  20,  19,\n",
       "        10,   9,   7,   6,   8,  13,   5,  15,  26,  36,  48,  38,  29,\n",
       "        14,  27,  25,  24,  31,  30,   4,  34,  37,  44,  47,  40,  35,\n",
       "        41,  42,  33,  51,  43,  39,  46,  63,  58,  57,  45,  54,  56,\n",
       "        59,  61,  60,  55,  50,  52,  49,  67,  73,  77,  80,  81,  76,\n",
       "        78,  82,  86,  88,  87,  90,  89,  84,  85,  75,  72,  71,  69,\n",
       "        66,  65,  64,  68,  83,  79,  74,   3,  53,  70,  62,  91,  92,\n",
       "        93,  94,  96,  97,  95,  98,  99,   2, 100], dtype=int64)"
      ]
     },
     "execution_count": 11,
     "metadata": {},
     "output_type": "execute_result"
    }
   ],
   "source": [
    "df['confidence'].unique()"
   ]
  },
  {
   "cell_type": "code",
   "execution_count": 12,
   "id": "1dc1aa3c-7974-4d41-b44e-ed1b8f805b23",
   "metadata": {},
   "outputs": [],
   "source": [
    "df.to_csv(f'wham_data/{campaign}/navigation/ping_logs/{campaign}_{divenumber}_sonar.csv',index=None)"
   ]
  },
  {
   "cell_type": "code",
   "execution_count": null,
   "id": "7910c7da-fed4-4531-8ce8-4b9fafe1e6e5",
   "metadata": {},
   "outputs": [],
   "source": []
  }
 ],
 "metadata": {
  "kernelspec": {
   "display_name": "Python 3 (ipykernel)",
   "language": "python",
   "name": "python3"
  },
  "language_info": {
   "codemirror_mode": {
    "name": "ipython",
    "version": 3
   },
   "file_extension": ".py",
   "mimetype": "text/x-python",
   "name": "python",
   "nbconvert_exporter": "python",
   "pygments_lexer": "ipython3",
   "version": "3.11.5"
  }
 },
 "nbformat": 4,
 "nbformat_minor": 5
}
