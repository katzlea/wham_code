{
 "cells": [
  {
   "cell_type": "code",
   "execution_count": 4,
   "id": "32f6f2ba-2922-47ef-bc2f-80bf14ba5f4b",
   "metadata": {},
   "outputs": [
    {
     "name": "stdout",
     "output_type": "stream",
     "text": [
      "Defaulting to user installation because normal site-packages is not writeableNote: you may need to restart the kernel to use updated packages.\n",
      "\n",
      "Requirement already satisfied: pandas in c:\\users\\leasa\\appdata\\local\\packages\\pythonsoftwarefoundation.python.3.12_qbz5n2kfra8p0\\localcache\\local-packages\\python312\\site-packages (2.1.3)\n",
      "Requirement already satisfied: numpy<2,>=1.26.0 in c:\\users\\leasa\\appdata\\local\\packages\\pythonsoftwarefoundation.python.3.12_qbz5n2kfra8p0\\localcache\\local-packages\\python312\\site-packages (from pandas) (1.26.2)\n",
      "Requirement already satisfied: python-dateutil>=2.8.2 in c:\\users\\leasa\\appdata\\local\\packages\\pythonsoftwarefoundation.python.3.12_qbz5n2kfra8p0\\localcache\\local-packages\\python312\\site-packages (from pandas) (2.8.2)\n",
      "Requirement already satisfied: pytz>=2020.1 in c:\\users\\leasa\\appdata\\local\\packages\\pythonsoftwarefoundation.python.3.12_qbz5n2kfra8p0\\localcache\\local-packages\\python312\\site-packages (from pandas) (2023.3.post1)\n",
      "Requirement already satisfied: tzdata>=2022.1 in c:\\users\\leasa\\appdata\\local\\packages\\pythonsoftwarefoundation.python.3.12_qbz5n2kfra8p0\\localcache\\local-packages\\python312\\site-packages (from pandas) (2023.3)\n",
      "Requirement already satisfied: six>=1.5 in c:\\users\\leasa\\appdata\\local\\packages\\pythonsoftwarefoundation.python.3.12_qbz5n2kfra8p0\\localcache\\local-packages\\python312\\site-packages (from python-dateutil>=2.8.2->pandas) (1.16.0)\n"
     ]
    }
   ],
   "source": [
    "pip install pandas"
   ]
  },
  {
   "cell_type": "code",
   "execution_count": 18,
   "id": "0c227735-4917-44ca-98e2-b08d31d2d214",
   "metadata": {},
   "outputs": [
    {
     "name": "stdout",
     "output_type": "stream",
     "text": [
      "Defaulting to user installation because normal site-packages is not writeable\n"
     ]
    },
    {
     "name": "stderr",
     "output_type": "stream",
     "text": [
      "ERROR: Could not find a version that satisfies the requirement brping (from versions: none)\n",
      "ERROR: No matching distribution found for brping\n"
     ]
    }
   ],
   "source": [
    "!pip install brping"
   ]
  },
  {
   "cell_type": "code",
   "execution_count": 1,
   "id": "b13f6aea-8467-4e7a-815b-4d02436ea9ac",
   "metadata": {},
   "outputs": [],
   "source": [
    "import pandas as pd"
   ]
  },
  {
   "cell_type": "code",
   "execution_count": 3,
   "id": "1fb0a76a-9fd1-4163-84f0-e91fb4044663",
   "metadata": {},
   "outputs": [],
   "source": [
    "import os"
   ]
  },
  {
   "cell_type": "code",
   "execution_count": 4,
   "id": "6f6f4928-1df5-45c6-9ff3-84f4ef7ef2fd",
   "metadata": {},
   "outputs": [],
   "source": [
    "campaign=\"TANGO1\""
   ]
  },
  {
   "cell_type": "code",
   "execution_count": 5,
   "id": "558886b1-7213-4b01-a0fc-26f208f48e7c",
   "metadata": {},
   "outputs": [],
   "source": [
    "divenumber=\"ROV6\""
   ]
  },
  {
   "cell_type": "code",
   "execution_count": 6,
   "id": "b1402bd3-7abf-4ce7-94b0-f63157723ba1",
   "metadata": {},
   "outputs": [],
   "source": [
    "os.chdir('c:\\\\Users\\\\leasa\\\\Documents\\\\wham')"
   ]
  },
  {
   "cell_type": "code",
   "execution_count": 15,
   "id": "3fd02fc9-1f10-4ac3-b30a-d502533929dd",
   "metadata": {},
   "outputs": [
    {
     "name": "stderr",
     "output_type": "stream",
     "text": [
      "c:\\Users\\leasa\\Documents\\wham\\wham_code\\1_ROV_metadata\\ping\\decode_bin_log.py:83: SyntaxWarning: invalid escape sequence '\\d'\n",
      "  b'(\\x00?\\d){2}(\\x00?:\\x00?[0-5]\\x00?\\d){2}\\x00?\\.(\\x00?\\d){3}')\n",
      "Traceback (most recent call last):\n",
      "  File \"c:\\Users\\leasa\\Documents\\wham\\wham_code\\1_ROV_metadata\\ping\\decode_bin_log.py\", line 9, in <module>\n",
      "    from brping import PingParser, PingMessage\n",
      "ModuleNotFoundError: No module named 'brping'\n"
     ]
    }
   ],
   "source": [
    "! python3 wham_code/1_ROV_metadata/ping/decode_bin_log.py wham_data/{campaign}/{divenumber}/{campaign}_{divenumber}.bin"
   ]
  },
  {
   "cell_type": "code",
   "execution_count": 14,
   "id": "1da5007b-2048-4ccc-ac8f-2b82b12fd667",
   "metadata": {},
   "outputs": [
    {
     "ename": "FileNotFoundError",
     "evalue": "[Errno 2] No such file or directory: 'wham_data/TANGO1/ROV6/TANGO1_ROV6.bin_info.txt'",
     "output_type": "error",
     "traceback": [
      "\u001b[1;31m---------------------------------------------------------------------------\u001b[0m",
      "\u001b[1;31mFileNotFoundError\u001b[0m                         Traceback (most recent call last)",
      "Cell \u001b[1;32mIn[14], line 1\u001b[0m\n\u001b[1;32m----> 1\u001b[0m file\u001b[38;5;241m=\u001b[39m\u001b[38;5;28;43mopen\u001b[39;49m\u001b[43m(\u001b[49m\u001b[38;5;124;43mf\u001b[39;49m\u001b[38;5;124;43m\"\u001b[39;49m\u001b[38;5;124;43mwham_data/\u001b[39;49m\u001b[38;5;132;43;01m{\u001b[39;49;00m\u001b[43mcampaign\u001b[49m\u001b[38;5;132;43;01m}\u001b[39;49;00m\u001b[38;5;124;43m/\u001b[39;49m\u001b[38;5;132;43;01m{\u001b[39;49;00m\u001b[43mdivenumber\u001b[49m\u001b[38;5;132;43;01m}\u001b[39;49;00m\u001b[38;5;124;43m/\u001b[39;49m\u001b[38;5;132;43;01m{\u001b[39;49;00m\u001b[43mcampaign\u001b[49m\u001b[38;5;132;43;01m}\u001b[39;49;00m\u001b[38;5;124;43m_\u001b[39;49m\u001b[38;5;132;43;01m{\u001b[39;49;00m\u001b[43mdivenumber\u001b[49m\u001b[38;5;132;43;01m}\u001b[39;49;00m\u001b[38;5;124;43m.bin_info.txt\u001b[39;49m\u001b[38;5;124;43m\"\u001b[39;49m\u001b[43m,\u001b[49m\u001b[38;5;124;43m'\u001b[39;49m\u001b[38;5;124;43mr\u001b[39;49m\u001b[38;5;124;43m'\u001b[39;49m\u001b[43m)\u001b[49m\n\u001b[0;32m      3\u001b[0m lines \u001b[38;5;241m=\u001b[39m file\u001b[38;5;241m.\u001b[39mreadlines()\n\u001b[0;32m      5\u001b[0m time_values \u001b[38;5;241m=\u001b[39m []\n",
      "File \u001b[1;32m~\\AppData\\Local\\Packages\\PythonSoftwareFoundation.Python.3.12_qbz5n2kfra8p0\\LocalCache\\local-packages\\Python312\\site-packages\\IPython\\core\\interactiveshell.py:308\u001b[0m, in \u001b[0;36m_modified_open\u001b[1;34m(file, *args, **kwargs)\u001b[0m\n\u001b[0;32m    301\u001b[0m \u001b[38;5;28;01mif\u001b[39;00m file \u001b[38;5;129;01min\u001b[39;00m {\u001b[38;5;241m0\u001b[39m, \u001b[38;5;241m1\u001b[39m, \u001b[38;5;241m2\u001b[39m}:\n\u001b[0;32m    302\u001b[0m     \u001b[38;5;28;01mraise\u001b[39;00m \u001b[38;5;167;01mValueError\u001b[39;00m(\n\u001b[0;32m    303\u001b[0m         \u001b[38;5;124mf\u001b[39m\u001b[38;5;124m\"\u001b[39m\u001b[38;5;124mIPython won\u001b[39m\u001b[38;5;124m'\u001b[39m\u001b[38;5;124mt let you open fd=\u001b[39m\u001b[38;5;132;01m{\u001b[39;00mfile\u001b[38;5;132;01m}\u001b[39;00m\u001b[38;5;124m by default \u001b[39m\u001b[38;5;124m\"\u001b[39m\n\u001b[0;32m    304\u001b[0m         \u001b[38;5;124m\"\u001b[39m\u001b[38;5;124mas it is likely to crash IPython. If you know what you are doing, \u001b[39m\u001b[38;5;124m\"\u001b[39m\n\u001b[0;32m    305\u001b[0m         \u001b[38;5;124m\"\u001b[39m\u001b[38;5;124myou can use builtins\u001b[39m\u001b[38;5;124m'\u001b[39m\u001b[38;5;124m open.\u001b[39m\u001b[38;5;124m\"\u001b[39m\n\u001b[0;32m    306\u001b[0m     )\n\u001b[1;32m--> 308\u001b[0m \u001b[38;5;28;01mreturn\u001b[39;00m \u001b[43mio_open\u001b[49m\u001b[43m(\u001b[49m\u001b[43mfile\u001b[49m\u001b[43m,\u001b[49m\u001b[43m \u001b[49m\u001b[38;5;241;43m*\u001b[39;49m\u001b[43margs\u001b[49m\u001b[43m,\u001b[49m\u001b[43m \u001b[49m\u001b[38;5;241;43m*\u001b[39;49m\u001b[38;5;241;43m*\u001b[39;49m\u001b[43mkwargs\u001b[49m\u001b[43m)\u001b[49m\n",
      "\u001b[1;31mFileNotFoundError\u001b[0m: [Errno 2] No such file or directory: 'wham_data/TANGO1/ROV6/TANGO1_ROV6.bin_info.txt'"
     ]
    }
   ],
   "source": [
    "file=open(f\"wham_data/{campaign}/{divenumber}/{campaign}_{divenumber}.bin_info.txt\",'r')\n",
    "\n",
    "lines = file.readlines()\n",
    "\n",
    "time_values = []\n",
    "bathymetry = []\n",
    "confidence = []\n",
    "\n",
    "for line in lines:\n",
    "    split = line.split()\n",
    "    if \"timestamp:\" in split:\n",
    "        time_values.append(split[1].replace('\\x00',''))\n",
    "    if \"distance:\" in split:\n",
    "        bathymetry.append(int(split[2]))\n",
    "    if \"confidence:\" in split:\n",
    "        confidence.append(int(split[2]))\n",
    "\n",
    "df = pd.DataFrame(columns=['time','bathymetry','confidence'])\n",
    "df['time'] = time_values\n",
    "df['bathymetry'] = bathymetry\n",
    "df['confidence'] = confidence"
   ]
  },
  {
   "cell_type": "code",
   "execution_count": 13,
   "id": "85636711-23b2-4ca6-8a74-d77b845cd4d1",
   "metadata": {},
   "outputs": [
    {
     "data": {
      "text/plain": [
       "array([ 24,   9,   0,  22,  20,  23,  10,  11,  19,  29,  17,   8,  18,\n",
       "        16,  30,  26,  37,  21,  27,  25,  34,  45,  43,  49,  51,  55,\n",
       "        48,  60,  53,  46,  36,  35,  12,  32,  41,  31,  42,  39,   7,\n",
       "        14,  15,  47,  38,  71,  58,  33,  13,  44,  28,  40,  68,  52,\n",
       "        62,  77,  61,  89,  64,  50,  54,   6,  63,  78,  75,  79,  82,\n",
       "        81,  66,  59,  57,  67,  56,  65,  70,  69,  72,   5,  73,  76,\n",
       "        74,  84,  85,  90,  83,   3,   4,   2, 100,   1,  95,  96,  92,\n",
       "        94,  98,  91,  93,  87,  88,  97,  86,  80,  99], dtype=int64)"
      ]
     },
     "execution_count": 13,
     "metadata": {},
     "output_type": "execute_result"
    }
   ],
   "source": [
    "df['confidence'].unique()"
   ]
  },
  {
   "cell_type": "code",
   "execution_count": 15,
   "id": "1dc1aa3c-7974-4d41-b44e-ed1b8f805b23",
   "metadata": {},
   "outputs": [],
   "source": [
    "df.to_csv(f'wham_data/{campaign}/{divenumber}/{campaign}_{divenumber}_sonar.csv',index=None)"
   ]
  }
 ],
 "metadata": {
  "kernelspec": {
   "display_name": "Python 3 (ipykernel)",
   "language": "python",
   "name": "python3"
  },
  "language_info": {
   "codemirror_mode": {
    "name": "ipython",
    "version": 3
   },
   "file_extension": ".py",
   "mimetype": "text/x-python",
   "name": "python",
   "nbconvert_exporter": "python",
   "pygments_lexer": "ipython3",
   "version": "3.12.0"
  }
 },
 "nbformat": 4,
 "nbformat_minor": 5
}
