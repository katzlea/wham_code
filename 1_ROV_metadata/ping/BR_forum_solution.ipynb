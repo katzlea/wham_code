{
 "cells": [
  {
   "cell_type": "code",
   "execution_count": 45,
   "id": "e6f8d2bf-318a-42d1-b635-170a0a2ead91",
   "metadata": {},
   "outputs": [],
   "source": [
    "import pandas as pd"
   ]
  },
  {
   "cell_type": "code",
   "execution_count": 46,
   "id": "e39f7c17-764b-4106-8d26-0617f6833ea5",
   "metadata": {},
   "outputs": [],
   "source": [
    "import os"
   ]
  },
  {
   "cell_type": "code",
   "execution_count": 47,
   "id": "7b67bfc3-bce3-4104-8b15-f58c9668bf03",
   "metadata": {},
   "outputs": [],
   "source": [
    "from decode_sensor_binary_log import PingViewerLogReader"
   ]
  },
  {
   "cell_type": "code",
   "execution_count": 48,
   "id": "68bd5e2d-0ce8-4633-bb2f-bcf608a3dec2",
   "metadata": {},
   "outputs": [],
   "source": [
    "from datetime import datetime, timedelta, time"
   ]
  },
  {
   "cell_type": "code",
   "execution_count": 49,
   "id": "7e6d3150-bae3-4108-82f4-2c47180e56ad",
   "metadata": {},
   "outputs": [],
   "source": [
    "from pathlib import Path"
   ]
  },
  {
   "cell_type": "code",
   "execution_count": 50,
   "id": "92fb12ec-9a2d-4d4a-bd5a-9cbafe3e905a",
   "metadata": {},
   "outputs": [],
   "source": [
    "filename = \"20240213-131400708\""
   ]
  },
  {
   "cell_type": "code",
   "execution_count": 51,
   "id": "bbfa8de4-eb5e-4c5e-8cfa-050a250d2723",
   "metadata": {},
   "outputs": [],
   "source": [
    "os.chdir('c:\\\\Users\\\\leasa\\\\Dropbox\\\\wham')"
   ]
  },
  {
   "cell_type": "code",
   "execution_count": 52,
   "id": "b787f2da-feb4-435f-a489-9b821fb81fdf",
   "metadata": {},
   "outputs": [],
   "source": [
    "import csv\n",
    "\n",
    "# TODO: put in the path to the log file you want to process\n",
    "#  e.g. \"~/My Documents/PingViewer/Sensor_Log/something.bin\""
   ]
  },
  {
   "cell_type": "code",
   "execution_count": 53,
   "id": "800edaa9-e52f-404f-8e45-b078bbe8fa2d",
   "metadata": {},
   "outputs": [],
   "source": [
    "logfile = Path(f\"wham_data/{campaign}/navigation/ping_logs/{filename}.bin\") "
   ]
  },
  {
   "cell_type": "code",
   "execution_count": 54,
   "id": "e2ea4cdc-91ec-48fd-81b5-66635eb7a204",
   "metadata": {},
   "outputs": [],
   "source": [
    "from datetime import datetime, timedelta, time"
   ]
  },
  {
   "cell_type": "code",
   "execution_count": 55,
   "id": "8e2d2acc-b847-44c8-92b9-29e71b3602ac",
   "metadata": {},
   "outputs": [],
   "source": [
    "def to_timedelta(time_str: str) -> timedelta:\n",
    "    ''' Returns a time delta from an iso-format time string. '''\n",
    "    delta = time.fromisoformat(time_str)\n",
    "    return timedelta(hours=delta.hour, minutes=delta.minute,\n",
    "                     seconds=delta.second, microseconds=delta.microsecond)"
   ]
  },
  {
   "cell_type": "code",
   "execution_count": 56,
   "id": "ae7b5fe1-a9ab-44e0-bb42-6084cbb5e4e1",
   "metadata": {},
   "outputs": [],
   "source": [
    "log = PingViewerLogReader(logfile)"
   ]
  },
  {
   "cell_type": "code",
   "execution_count": 57,
   "id": "839dff49-44a6-4c1d-ae7f-a610704976e4",
   "metadata": {},
   "outputs": [],
   "source": [
    "outfile = Path(f\"wham_data/{campaign}/navigation/ping_logs/{filename}\").with_suffix(\".csv\")"
   ]
  },
  {
   "cell_type": "code",
   "execution_count": 58,
   "id": "87a6c4a5-91c3-4669-974d-952f623e129a",
   "metadata": {},
   "outputs": [],
   "source": [
    "# ideally it would be good to localise this to your timezone,\n",
    "#  but in this case it shouldn't cause issues unless you were\n",
    "#  recording the sonar data at the time of a daylight savings\n",
    "#  changeover or something\n",
    "start_time = datetime.strptime(logfile.stem, \"%Y%m%d-%H%M%S%f\")"
   ]
  },
  {
   "cell_type": "code",
   "execution_count": 59,
   "id": "00ca03a3-7e4b-4da0-ab05-e305f34e8f9c",
   "metadata": {},
   "outputs": [],
   "source": [
    "with outfile.open(\"w\") as out:\n",
    "    csv_writer = csv.writer(out)\n",
    "    csv_writer.writerow((\"timestamp\", \"distance [mm]\", \"confidence [%]\"))\n",
    "    for timestamp, message in log.parser():\n",
    "        # convert the 'duration since scanning started' into a local-time timestamp\n",
    "        #  the .replace here ensures cross-compatibility between operating systems\n",
    "        timestamp = start_time + to_timedelta(timestamp.replace('\\x00',''))\n",
    "        csv_writer.writerow((timestamp, message.distance, message.confidence))"
   ]
  },
  {
   "cell_type": "code",
   "execution_count": null,
   "id": "b03f0cf0-6594-4831-aaa0-713e9999ab33",
   "metadata": {},
   "outputs": [],
   "source": []
  },
  {
   "cell_type": "code",
   "execution_count": null,
   "id": "4af0ecae-dcd2-459b-bf60-898a28431258",
   "metadata": {},
   "outputs": [],
   "source": []
  }
 ],
 "metadata": {
  "kernelspec": {
   "display_name": "Python 3 (ipykernel)",
   "language": "python",
   "name": "python3"
  },
  "language_info": {
   "codemirror_mode": {
    "name": "ipython",
    "version": 3
   },
   "file_extension": ".py",
   "mimetype": "text/x-python",
   "name": "python",
   "nbconvert_exporter": "python",
   "pygments_lexer": "ipython3",
   "version": "3.11.5"
  }
 },
 "nbformat": 4,
 "nbformat_minor": 5
}
